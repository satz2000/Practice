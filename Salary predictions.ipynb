{
 "cells": [
  {
   "cell_type": "code",
   "execution_count": 1,
   "id": "9349df02-44a4-4cdf-a723-1dae4a20b936",
   "metadata": {},
   "outputs": [],
   "source": [
    "import numpy as np\n",
    "import pandas as pd\n",
    "import matplotlib.pyplot as plt\n",
    "%matplotlib inline\n",
    "from sklearn.linear_model import LinearRegression"
   ]
  },
  {
   "cell_type": "code",
   "execution_count": 2,
   "id": "35b554e6-e958-4596-9ee3-affb00e82d47",
   "metadata": {},
   "outputs": [
    {
     "data": {
      "text/html": [
       "<div>\n",
       "<style scoped>\n",
       "    .dataframe tbody tr th:only-of-type {\n",
       "        vertical-align: middle;\n",
       "    }\n",
       "\n",
       "    .dataframe tbody tr th {\n",
       "        vertical-align: top;\n",
       "    }\n",
       "\n",
       "    .dataframe thead th {\n",
       "        text-align: right;\n",
       "    }\n",
       "</style>\n",
       "<table border=\"1\" class=\"dataframe\">\n",
       "  <thead>\n",
       "    <tr style=\"text-align: right;\">\n",
       "      <th></th>\n",
       "      <th>experience</th>\n",
       "      <th>test_score(out of 10)</th>\n",
       "      <th>interview_score(out of 10)</th>\n",
       "      <th>salary($)</th>\n",
       "    </tr>\n",
       "  </thead>\n",
       "  <tbody>\n",
       "    <tr>\n",
       "      <th>0</th>\n",
       "      <td>NaN</td>\n",
       "      <td>8.0</td>\n",
       "      <td>9</td>\n",
       "      <td>50000</td>\n",
       "    </tr>\n",
       "    <tr>\n",
       "      <th>1</th>\n",
       "      <td>NaN</td>\n",
       "      <td>8.0</td>\n",
       "      <td>6</td>\n",
       "      <td>45000</td>\n",
       "    </tr>\n",
       "    <tr>\n",
       "      <th>2</th>\n",
       "      <td>five</td>\n",
       "      <td>6.0</td>\n",
       "      <td>7</td>\n",
       "      <td>60000</td>\n",
       "    </tr>\n",
       "    <tr>\n",
       "      <th>3</th>\n",
       "      <td>two</td>\n",
       "      <td>10.0</td>\n",
       "      <td>10</td>\n",
       "      <td>65000</td>\n",
       "    </tr>\n",
       "    <tr>\n",
       "      <th>4</th>\n",
       "      <td>seven</td>\n",
       "      <td>9.0</td>\n",
       "      <td>6</td>\n",
       "      <td>70000</td>\n",
       "    </tr>\n",
       "  </tbody>\n",
       "</table>\n",
       "</div>"
      ],
      "text/plain": [
       "  experience  test_score(out of 10)  interview_score(out of 10)  salary($)\n",
       "0        NaN                    8.0                           9      50000\n",
       "1        NaN                    8.0                           6      45000\n",
       "2       five                    6.0                           7      60000\n",
       "3        two                   10.0                          10      65000\n",
       "4      seven                    9.0                           6      70000"
      ]
     },
     "execution_count": 2,
     "metadata": {},
     "output_type": "execute_result"
    }
   ],
   "source": [
    "df = pd.read_csv(\"hiring.csv\")\n",
    "df.head()"
   ]
  },
  {
   "cell_type": "code",
   "execution_count": 3,
   "id": "ab994692-f646-4a34-a2f4-8445cf0e71a7",
   "metadata": {},
   "outputs": [
    {
     "data": {
      "text/plain": [
       "experience                    2\n",
       "test_score(out of 10)         1\n",
       "interview_score(out of 10)    0\n",
       "salary($)                     0\n",
       "dtype: int64"
      ]
     },
     "execution_count": 3,
     "metadata": {},
     "output_type": "execute_result"
    }
   ],
   "source": [
    "df.isnull().sum()"
   ]
  },
  {
   "cell_type": "code",
   "execution_count": 4,
   "id": "457d7756-c5c3-4d54-aad4-706566b8277d",
   "metadata": {},
   "outputs": [],
   "source": [
    "df['experience'] = df['experience'].fillna('missing')"
   ]
  },
  {
   "cell_type": "code",
   "execution_count": 5,
   "id": "4a9536ad-8be8-42d4-a19e-794f6d795c08",
   "metadata": {},
   "outputs": [],
   "source": [
    "df['test_score(out of 10)'] = df['test_score(out of 10)'].fillna(np.round(df['test_score(out of 10)']).mean())"
   ]
  },
  {
   "cell_type": "code",
   "execution_count": 6,
   "id": "d2628067-d36c-4867-bbf6-bf7dfdf18e4c",
   "metadata": {},
   "outputs": [
    {
     "data": {
      "text/plain": [
       "experience                    0\n",
       "test_score(out of 10)         0\n",
       "interview_score(out of 10)    0\n",
       "salary($)                     0\n",
       "dtype: int64"
      ]
     },
     "execution_count": 6,
     "metadata": {},
     "output_type": "execute_result"
    }
   ],
   "source": [
    "df.isnull().sum()"
   ]
  },
  {
   "cell_type": "code",
   "execution_count": 7,
   "id": "30d300f0-e51a-4268-adc9-0b4ae57306ad",
   "metadata": {},
   "outputs": [
    {
     "data": {
      "text/html": [
       "<div>\n",
       "<style scoped>\n",
       "    .dataframe tbody tr th:only-of-type {\n",
       "        vertical-align: middle;\n",
       "    }\n",
       "\n",
       "    .dataframe tbody tr th {\n",
       "        vertical-align: top;\n",
       "    }\n",
       "\n",
       "    .dataframe thead th {\n",
       "        text-align: right;\n",
       "    }\n",
       "</style>\n",
       "<table border=\"1\" class=\"dataframe\">\n",
       "  <thead>\n",
       "    <tr style=\"text-align: right;\">\n",
       "      <th></th>\n",
       "      <th>experience</th>\n",
       "      <th>test_score(out of 10)</th>\n",
       "      <th>interview_score(out of 10)</th>\n",
       "      <th>salary($)</th>\n",
       "    </tr>\n",
       "  </thead>\n",
       "  <tbody>\n",
       "    <tr>\n",
       "      <th>0</th>\n",
       "      <td>missing</td>\n",
       "      <td>8.0</td>\n",
       "      <td>9</td>\n",
       "      <td>50000</td>\n",
       "    </tr>\n",
       "    <tr>\n",
       "      <th>1</th>\n",
       "      <td>missing</td>\n",
       "      <td>8.0</td>\n",
       "      <td>6</td>\n",
       "      <td>45000</td>\n",
       "    </tr>\n",
       "    <tr>\n",
       "      <th>2</th>\n",
       "      <td>five</td>\n",
       "      <td>6.0</td>\n",
       "      <td>7</td>\n",
       "      <td>60000</td>\n",
       "    </tr>\n",
       "    <tr>\n",
       "      <th>3</th>\n",
       "      <td>two</td>\n",
       "      <td>10.0</td>\n",
       "      <td>10</td>\n",
       "      <td>65000</td>\n",
       "    </tr>\n",
       "    <tr>\n",
       "      <th>4</th>\n",
       "      <td>seven</td>\n",
       "      <td>9.0</td>\n",
       "      <td>6</td>\n",
       "      <td>70000</td>\n",
       "    </tr>\n",
       "  </tbody>\n",
       "</table>\n",
       "</div>"
      ],
      "text/plain": [
       "  experience  test_score(out of 10)  interview_score(out of 10)  salary($)\n",
       "0    missing                    8.0                           9      50000\n",
       "1    missing                    8.0                           6      45000\n",
       "2       five                    6.0                           7      60000\n",
       "3        two                   10.0                          10      65000\n",
       "4      seven                    9.0                           6      70000"
      ]
     },
     "execution_count": 7,
     "metadata": {},
     "output_type": "execute_result"
    }
   ],
   "source": [
    "df.head()"
   ]
  },
  {
   "cell_type": "code",
   "execution_count": 8,
   "id": "1b1e1e9a-d13e-4ee6-b8e6-3a8bf895d33e",
   "metadata": {},
   "outputs": [
    {
     "data": {
      "image/png": "[encoded data removed]",
      "text/plain": [
       "<Figure size 432x288 with 1 Axes>"
      ]
     },
     "metadata": {
      "needs_background": "light"
     },
     "output_type": "display_data"
    }
   ],
   "source": [
    "plt.bar(df['experience'], df['salary($)'])\n",
    "plt.xlabel('Experience(Year)')\n",
    "plt.ylabel('Salary(USD)')\n",
    "plt.show()"
   ]
  },
  {
   "cell_type": "code",
   "execution_count": 9,
   "id": "5db92b78-a00d-4e09-99aa-2756021ff5a1",
   "metadata": {},
   "outputs": [],
   "source": [
    "# round the value bcoz test score will be an whole number \n",
    "df['test_score(out of 10)'] = df['test_score(out of 10)'].astype(int)"
   ]
  },
  {
   "cell_type": "code",
   "execution_count": 10,
   "id": "cb68c293-4584-4141-89e7-021c49a9103a",
   "metadata": {},
   "outputs": [
    {
     "data": {
      "image/png": "[encoded data removed]",
      "text/plain": [
       "<Figure size 432x288 with 1 Axes>"
      ]
     },
     "metadata": {
      "needs_background": "light"
     },
     "output_type": "display_data"
    }
   ],
   "source": [
    "plt.bar(df['test_score(out of 10)'], df['salary($)'])\n",
    "plt.xlabel('test score(out of 10)')\n",
    "plt.ylabel('Salary(USD)')\n",
    "plt.show()"
   ]
  },
  {
   "cell_type": "code",
   "execution_count": 11,
   "id": "7c47986b-b915-4c14-bcec-6fda642c390e",
   "metadata": {},
   "outputs": [
    {
     "data": {
      "image/png": "[encoded data removed]",
      "text/plain": [
       "<Figure size 432x288 with 1 Axes>"
      ]
     },
     "metadata": {
      "needs_background": "light"
     },
     "output_type": "display_data"
    }
   ],
   "source": [
    "plt.bar(df['interview_score(out of 10)'], df['salary($)'])\n",
    "plt.xlabel('interview score(out of 10)')\n",
    "plt.ylabel('Salary(USD)')\n",
    "plt.show()"
   ]
  },
  {
   "cell_type": "code",
   "execution_count": 12,
   "id": "95c53d38-507b-424b-a629-a13111590ff9",
   "metadata": {},
   "outputs": [
    {
     "data": {
      "text/plain": [
       "array(['missing', 'five', 'two', 'seven', 'three', 'ten', 'eleven'],\n",
       "      dtype=object)"
      ]
     },
     "execution_count": 12,
     "metadata": {},
     "output_type": "execute_result"
    }
   ],
   "source": [
    "df['experience'].unique()"
   ]
  },
  {
   "cell_type": "code",
   "execution_count": 13,
   "id": "8ab8e446-3f22-430f-823c-6806216b632a",
   "metadata": {},
   "outputs": [],
   "source": [
    "df['experience'] = df['experience'].replace(['missing', 'two', 'three', 'five', 'seven', 'ten', 'eleven'], [0,1,2,3,4,5,6])"
   ]
  },
  {
   "cell_type": "code",
   "execution_count": 14,
   "id": "0db1d718-fe20-4eee-a9bd-13890a87dd32",
   "metadata": {},
   "outputs": [],
   "source": [
    "X = df.drop(['salary($)'], axis=1)\n",
    "y = df['salary($)']"
   ]
  },
  {
   "cell_type": "code",
   "execution_count": 15,
   "id": "939bb112-f89a-4e39-a9a0-a6d149756a4b",
   "metadata": {},
   "outputs": [
    {
     "data": {
      "text/plain": [
       "LinearRegression()"
      ]
     },
     "execution_count": 15,
     "metadata": {},
     "output_type": "execute_result"
    }
   ],
   "source": [
    "Lreg = LinearRegression()\n",
    "Lreg.fit(X,y)"
   ]
  },
  {
   "cell_type": "code",
   "execution_count": 16,
   "id": "906665bf-97b9-456f-a853-1a1234287043",
   "metadata": {},
   "outputs": [
    {
     "data": {
      "text/plain": [
       "array([53211.82671718])"
      ]
     },
     "execution_count": 16,
     "metadata": {},
     "output_type": "execute_result"
    }
   ],
   "source": [
    "Lreg.predict([[1, 9, 6]])"
   ]
  },
  {
   "cell_type": "code",
   "execution_count": 17,
   "id": "3904916e-8c33-4106-bd5b-e5b4291e9804",
   "metadata": {},
   "outputs": [
    {
     "data": {
      "text/plain": [
       "array([97815.26931313])"
      ]
     },
     "execution_count": 17,
     "metadata": {},
     "output_type": "execute_result"
    }
   ],
   "source": [
    "Lreg.predict([[7, 10, 10]])"
   ]
  },
  {
   "cell_type": "code",
   "execution_count": 34,
   "id": "6a4052a2-ea31-4934-a828-d6162524a552",
   "metadata": {},
   "outputs": [
    {
     "data": {
      "text/plain": [
       "RandomForestRegressor(max_samples=8, min_samples_leaf=2)"
      ]
     },
     "execution_count": 34,
     "metadata": {},
     "output_type": "execute_result"
    }
   ],
   "source": [
    "from sklearn.ensemble import RandomForestRegressor\n",
    "rfc = RandomForestRegressor(min_samples_leaf=2, max_samples=8)\n",
    "rfc.fit(X,y)"
   ]
  },
  {
   "cell_type": "code",
   "execution_count": 35,
   "id": "a66f9d6d-5b93-4fc8-ab00-3bea15eb9780",
   "metadata": {},
   "outputs": [
    {
     "data": {
      "text/plain": [
       "array([57760.5])"
      ]
     },
     "execution_count": 35,
     "metadata": {},
     "output_type": "execute_result"
    }
   ],
   "source": [
    "rfc.predict([[1, 9, 6]])"
   ]
  },
  {
   "cell_type": "code",
   "execution_count": 36,
   "id": "8ef9eabd-f41a-40d5-9347-c6a1340bcfb6",
   "metadata": {},
   "outputs": [
    {
     "name": "stdout",
     "output_type": "stream",
     "text": [
      "[71129.16666667]\n"
     ]
    }
   ],
   "source": [
    "y_pred = rfc.predict([[7, 10, 10]])\n",
    "print(y_pred)"
   ]
  },
  {
   "cell_type": "code",
   "execution_count": null,
   "id": "973fea72-2c5d-4ca8-a0f3-adaf57ce7e9e",
   "metadata": {},
   "outputs": [],
   "source": []
  }
 ],
 "metadata": {
  "kernelspec": {
   "display_name": "Python 3 (ipykernel)",
   "language": "python",
   "name": "python3"
  },
  "language_info": {
   "codemirror_mode": {
    "name": "ipython",
    "version": 3
   },
   "file_extension": ".py",
   "mimetype": "text/x-python",
   "name": "python",
   "nbconvert_exporter": "python",
   "pygments_lexer": "ipython3",
   "version": "3.9.7"
  }
 },
 "nbformat": 4,
 "nbformat_minor": 5
}
