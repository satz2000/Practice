{
 "cells": [
  {
   "cell_type": "markdown",
   "id": "0dd95cb5-b4f2-4d0f-b223-a7dbb489e549",
   "metadata": {},
   "source": [
    "# Simple LinearRegression"
   ]
  },
  {
   "cell_type": "markdown",
   "id": "d4da5678-d946-410a-88ef-06b602ccc884",
   "metadata": {},
   "source": [
    "#### Loading packages"
   ]
  },
  {
   "cell_type": "code",
   "execution_count": 1,
   "id": "4f8bda49-ee9d-4770-a28e-6eeda4a5c554",
   "metadata": {},
   "outputs": [],
   "source": [
    "import numpy as np\n",
    "import pandas as pd\n",
    "import matplotlib.pyplot as plt\n",
    "from sklearn.linear_model import LinearRegression\n",
    "%matplotlib inline"
   ]
  },
  {
   "cell_type": "markdown",
   "id": "5adc57d0-7e11-4eec-a5a4-ee4f4cd20786",
   "metadata": {},
   "source": [
    "#### Load Datasets"
   ]
  },
  {
   "cell_type": "code",
   "execution_count": 2,
   "id": "8893d36e-1fb4-4523-b860-83bc32c08e72",
   "metadata": {},
   "outputs": [
    {
     "data": {
      "text/html": [
       "<div>\n",
       "<style scoped>\n",
       "    .dataframe tbody tr th:only-of-type {\n",
       "        vertical-align: middle;\n",
       "    }\n",
       "\n",
       "    .dataframe tbody tr th {\n",
       "        vertical-align: top;\n",
       "    }\n",
       "\n",
       "    .dataframe thead th {\n",
       "        text-align: right;\n",
       "    }\n",
       "</style>\n",
       "<table border=\"1\" class=\"dataframe\">\n",
       "  <thead>\n",
       "    <tr style=\"text-align: right;\">\n",
       "      <th></th>\n",
       "      <th>year</th>\n",
       "      <th>per capita income (US$)</th>\n",
       "    </tr>\n",
       "  </thead>\n",
       "  <tbody>\n",
       "    <tr>\n",
       "      <th>0</th>\n",
       "      <td>1970</td>\n",
       "      <td>3399.299037</td>\n",
       "    </tr>\n",
       "    <tr>\n",
       "      <th>1</th>\n",
       "      <td>1971</td>\n",
       "      <td>3768.297935</td>\n",
       "    </tr>\n",
       "    <tr>\n",
       "      <th>2</th>\n",
       "      <td>1972</td>\n",
       "      <td>4251.175484</td>\n",
       "    </tr>\n",
       "    <tr>\n",
       "      <th>3</th>\n",
       "      <td>1973</td>\n",
       "      <td>4804.463248</td>\n",
       "    </tr>\n",
       "    <tr>\n",
       "      <th>4</th>\n",
       "      <td>1974</td>\n",
       "      <td>5576.514583</td>\n",
       "    </tr>\n",
       "  </tbody>\n",
       "</table>\n",
       "</div>"
      ],
      "text/plain": [
       "   year  per capita income (US$)\n",
       "0  1970              3399.299037\n",
       "1  1971              3768.297935\n",
       "2  1972              4251.175484\n",
       "3  1973              4804.463248\n",
       "4  1974              5576.514583"
      ]
     },
     "execution_count": 2,
     "metadata": {},
     "output_type": "execute_result"
    }
   ],
   "source": [
    "df =  pd.read_csv('canada_per_capita_income.csv')\n",
    "df.head()"
   ]
  },
  {
   "cell_type": "code",
   "execution_count": 3,
   "id": "fad97abd-a81f-415b-a5f3-2ff6ca40e661",
   "metadata": {},
   "outputs": [
    {
     "data": {
      "text/plain": [
       "year                       0\n",
       "per capita income (US$)    0\n",
       "dtype: int64"
      ]
     },
     "execution_count": 3,
     "metadata": {},
     "output_type": "execute_result"
    }
   ],
   "source": [
    "df.isnull().sum()"
   ]
  },
  {
   "cell_type": "code",
   "execution_count": 4,
   "id": "e9d5c673-4416-4c13-ad52-cb981645c9c3",
   "metadata": {},
   "outputs": [
    {
     "data": {
      "text/plain": [
       "year                         int64\n",
       "per capita income (US$)    float64\n",
       "dtype: object"
      ]
     },
     "execution_count": 4,
     "metadata": {},
     "output_type": "execute_result"
    }
   ],
   "source": [
    "df.dtypes"
   ]
  },
  {
   "cell_type": "markdown",
   "id": "a6e366d7-fed0-4c2f-be23-7426411d1360",
   "metadata": {},
   "source": [
    "#### Data Visualization"
   ]
  },
  {
   "cell_type": "code",
   "execution_count": 5,
   "id": "b1a9a7b1-00eb-4e16-a290-412ec2327136",
   "metadata": {},
   "outputs": [
    {
     "data": {
      "image/png": "[encoded data removed]",
      "text/plain": [
       "<Figure size 864x360 with 1 Axes>"
      ]
     },
     "metadata": {
      "needs_background": "light"
     },
     "output_type": "display_data"
    }
   ],
   "source": [
    "plt.figure(figsize=(12,5))\n",
    "plt.bar(df.year, df['per capita income (US$)'])\n",
    "plt.xlabel('Year', fontdict={'fontsize': '12'})\n",
    "plt.xticks(df.year[::2], rotation=270)\n",
    "plt.ylabel('Income (US Dollar)', fontdict={'fontsize': '12'})\n",
    "plt.title('Per Capita Income (USD)', fontdict={'fontweight': 'bold', 'fontsize':'16'})\n",
    "plt.show()"
   ]
  },
  {
   "cell_type": "code",
   "execution_count": 6,
   "id": "596f46c6-e81e-499c-afa4-ed7f2e1eb4b4",
   "metadata": {},
   "outputs": [],
   "source": [
    "#import sys\n",
    "#!{sys.executable} -m pip install dtale"
   ]
  },
  {
   "cell_type": "markdown",
   "id": "82f97e0c-efdf-47ee-be8a-7bb7c71a8d0c",
   "metadata": {},
   "source": [
    "#### Model Training"
   ]
  },
  {
   "cell_type": "code",
   "execution_count": 36,
   "id": "8ecb4409-40f8-4c42-8caa-7f54f9a4d508",
   "metadata": {},
   "outputs": [
    {
     "data": {
      "text/plain": [
       "LinearRegression()"
      ]
     },
     "execution_count": 36,
     "metadata": {},
     "output_type": "execute_result"
    }
   ],
   "source": [
    "model = LinearRegression()\n",
    "model.fit(df[['year']], df['per capita income (US$)'])"
   ]
  },
  {
   "cell_type": "code",
   "execution_count": 37,
   "id": "b65aff9f-7559-481a-a0be-d4d07f181a9d",
   "metadata": {},
   "outputs": [
    {
     "data": {
      "text/plain": [
       "0.890916917957032"
      ]
     },
     "execution_count": 37,
     "metadata": {},
     "output_type": "execute_result"
    }
   ],
   "source": [
    "model.score(df[['year']], df['per capita income (US$)'])"
   ]
  },
  {
   "cell_type": "code",
   "execution_count": 38,
   "id": "04ae43c0-3a9e-4511-8c58-13b20b767eac",
   "metadata": {},
   "outputs": [
    {
     "data": {
      "text/plain": [
       "[<matplotlib.lines.Line2D at 0x192acb13940>]"
      ]
     },
     "execution_count": 38,
     "metadata": {},
     "output_type": "execute_result"
    },
    {
     "data": {
      "image/png": "[encoded data removed]",
      "text/plain": [
       "<Figure size 432x288 with 1 Axes>"
      ]
     },
     "metadata": {
      "needs_background": "light"
     },
     "output_type": "display_data"
    }
   ],
   "source": [
    "# this will finds how ours model fitted with data\n",
    "plt.xlabel('Year')\n",
    "plt.ylabel('Income')\n",
    "plt.scatter(df['year'], df['per capita income (US$)'])\n",
    "plt.plot(df['year'], model.predict(df[['year']]))"
   ]
  },
  {
   "cell_type": "code",
   "execution_count": 39,
   "id": "0c9e7951-308b-42f6-8c66-b938b53b6f3a",
   "metadata": {},
   "outputs": [],
   "source": [
    "data = [2016,2017, 2018, 2019, 2020, 2021]\n",
    "predict = {}\n",
    "for year in data:\n",
    "    y =model.predict([[year]])\n",
    "    predict[year] = y"
   ]
  },
  {
   "cell_type": "code",
   "execution_count": 40,
   "id": "bbe19617-d01f-4958-80fa-f156244c0cf4",
   "metadata": {},
   "outputs": [
    {
     "data": {
      "text/plain": [
       "{2016: array([37974.83379353]),\n",
       " 2017: array([38803.29886875]),\n",
       " 2018: array([39631.76394397]),\n",
       " 2019: array([40460.22901919]),\n",
       " 2020: array([41288.69409442]),\n",
       " 2021: array([42117.15916964])}"
      ]
     },
     "execution_count": 40,
     "metadata": {},
     "output_type": "execute_result"
    }
   ],
   "source": [
    "predict"
   ]
  },
  {
   "cell_type": "code",
   "execution_count": 41,
   "id": "42636672-25e1-4498-ba3f-9ff7b079b5c6",
   "metadata": {},
   "outputs": [],
   "source": [
    "from sklearn.pipeline import Pipeline\n",
    "pipe = Pipeline([('classifier',LinearRegression())])"
   ]
  },
  {
   "cell_type": "code",
   "execution_count": 42,
   "id": "f5a3e4ad-4ec5-40cc-ad4f-f37193c8003e",
   "metadata": {},
   "outputs": [
    {
     "data": {
      "text/plain": [
       "0.890916917957032"
      ]
     },
     "execution_count": 42,
     "metadata": {},
     "output_type": "execute_result"
    }
   ],
   "source": [
    "pipe.fit(df[['year']], df['per capita income (US$)'])\n",
    "pipe.score(df[['year']], df['per capita income (US$)'])"
   ]
  },
  {
   "cell_type": "code",
   "execution_count": 43,
   "id": "f7874993-e365-48d7-964f-f564bec7fe1e",
   "metadata": {},
   "outputs": [
    {
     "data": {
      "text/plain": [
       "array([24719.39258996])"
      ]
     },
     "execution_count": 43,
     "metadata": {},
     "output_type": "execute_result"
    }
   ],
   "source": [
    "pipe.predict([[2000]])"
   ]
  },
  {
   "cell_type": "code",
   "execution_count": 12,
   "id": "22696f12-3828-4593-a2b9-eb8c568ff65c",
   "metadata": {},
   "outputs": [],
   "source": [
    "# to save model\n",
    "# import pickle"
   ]
  },
  {
   "cell_type": "code",
   "execution_count": 13,
   "id": "9098902b-22d3-4c75-ac0b-16d7735826c5",
   "metadata": {},
   "outputs": [
    {
     "data": {
      "text/plain": [
       "\"\\nwith open('LR_Model', 'wb') as f:\\n    pickle.dump(model, f)    \\n\""
      ]
     },
     "execution_count": 13,
     "metadata": {},
     "output_type": "execute_result"
    }
   ],
   "source": [
    "# save our notebook file into model \n",
    "\"\"\"\n",
    "with open('LR_Model', 'wb') as f:\n",
    "    pickle.dump(model, f)    \n",
    "\"\"\""
   ]
  },
  {
   "cell_type": "code",
   "execution_count": 14,
   "id": "c39059b1-4b94-4c2a-beb1-89027e47e308",
   "metadata": {},
   "outputs": [
    {
     "data": {
      "text/plain": [
       "\"\\nwith open('LR_Model', 'rb') as f:\\n    model = pickle.load(f)\\n\""
      ]
     },
     "execution_count": 14,
     "metadata": {},
     "output_type": "execute_result"
    }
   ],
   "source": [
    "\"\"\"\n",
    "with open('LR_Model', 'rb') as f:\n",
    "    model = pickle.load(f)\n",
    "\"\"\""
   ]
  },
  {
   "cell_type": "code",
   "execution_count": 15,
   "id": "d2e32127-b003-45d3-818d-80079f7eb3bd",
   "metadata": {},
   "outputs": [],
   "source": [
    "# model.predict([[2026]])"
   ]
  },
  {
   "cell_type": "code",
   "execution_count": 16,
   "id": "d98b8dee-bb93-4c49-96bd-8d6184273406",
   "metadata": {},
   "outputs": [],
   "source": [
    "# to save our model\n",
    "#import joblib"
   ]
  },
  {
   "cell_type": "code",
   "execution_count": 17,
   "id": "aecacbb6-5848-4159-9cb4-36467045785d",
   "metadata": {},
   "outputs": [
    {
     "data": {
      "text/plain": [
       "\"\\nwith open('model', 'wb') as f:\\n   joblib.dump(model, f)\\n\""
      ]
     },
     "execution_count": 17,
     "metadata": {},
     "output_type": "execute_result"
    }
   ],
   "source": [
    "'''\n",
    "with open('model', 'wb') as f:\n",
    "   joblib.dump(model, f)\n",
    "'''"
   ]
  },
  {
   "cell_type": "code",
   "execution_count": 18,
   "id": "a403af78-952c-4bf9-b83c-2914559d8b0f",
   "metadata": {},
   "outputs": [
    {
     "data": {
      "text/plain": [
       "\"\\nwith open('model', 'rb') as f:\\n    joblib.load(f)\\n\""
      ]
     },
     "execution_count": 18,
     "metadata": {},
     "output_type": "execute_result"
    }
   ],
   "source": [
    "'''\n",
    "with open('model', 'rb') as f:\n",
    "    joblib.load(f)\n",
    "'''    "
   ]
  },
  {
   "cell_type": "code",
   "execution_count": 19,
   "id": "e8505640-9a65-4252-bad4-8bfc7b548cdb",
   "metadata": {},
   "outputs": [],
   "source": [
    "# model.predict([[2000]])"
   ]
  },
  {
   "cell_type": "code",
   "execution_count": null,
   "id": "c32bc395-e257-47c5-889b-04854ca05886",
   "metadata": {},
   "outputs": [],
   "source": []
  }
 ],
 "metadata": {
  "kernelspec": {
   "display_name": "Python 3 (ipykernel)",
   "language": "python",
   "name": "python3"
  },
  "language_info": {
   "codemirror_mode": {
    "name": "ipython",
    "version": 3
   },
   "file_extension": ".py",
   "mimetype": "text/x-python",
   "name": "python",
   "nbconvert_exporter": "python",
   "pygments_lexer": "ipython3",
   "version": "3.8.12"
  }
 },
 "nbformat": 4,
 "nbformat_minor": 5
}
